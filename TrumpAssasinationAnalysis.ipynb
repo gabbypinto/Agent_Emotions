{
 "cells": [
  {
   "cell_type": "code",
   "execution_count": null,
   "metadata": {
    "vscode": {
     "languageId": "plaintext"
    }
   },
   "outputs": [],
   "source": [
    "!pip install pydub\n",
    "!pip install speechrecognition\n",
    "!pip install transformers\n",
    "!pip install torch\n",
    "\n",
    "\n",
    "    \"\"\"This is the jupyter notebook I ran on colab to extract the analysis on a few july 14th video I wanted to push this for record reasons\"\"\"\n"
   ]
  },
  {
   "cell_type": "code",
   "execution_count": null,
   "metadata": {
    "vscode": {
     "languageId": "plaintext"
    }
   },
   "outputs": [],
   "source": [
    "from google.colab import drive\n",
    "drive.mount('/content/drive')"
   ]
  },
  {
   "cell_type": "code",
   "execution_count": null,
   "metadata": {
    "vscode": {
     "languageId": "plaintext"
    }
   },
   "outputs": [],
   "source": [
    "import os\n",
    "import json\n",
    "import speech_recognition as sr\n",
    "from pydub import AudioSegment\n",
    "from transformers import pipeline\n",
    "from collections import Counter\n",
    "import pandas as pd\n",
    "from tqdm import tqdm\n",
    "\n",
    "def extract_audio_from_video(video_file, output_audio_file):\n",
    "    \"\"\"Extract audio from a video file\"\"\"\n",
    "    try:\n",
    "        audio = AudioSegment.from_file(video_file)\n",
    "        audio.export(output_audio_file, format=\"wav\")\n",
    "        return True\n",
    "    except Exception as e:\n",
    "        print(f\"Error extracting audio from {video_file}: {str(e)}\")\n",
    "        return False\n",
    "\n",
    "def convert_audio_to_text(audio_file):\n",
    "    \"\"\"Convert audio to text using speech recognition\"\"\"\n",
    "    recognizer = sr.Recognizer()\n",
    "    try:\n",
    "        with sr.AudioFile(audio_file) as source:\n",
    "            audio_data = recognizer.record(source)\n",
    "            text = recognizer.recognize_google(audio_data)\n",
    "            return text\n",
    "    except Exception as e:\n",
    "        print(f\"Error in speech recognition: {str(e)}\")\n",
    "        return \"\"\n",
    "\n",
    "def classify_emotions_in_text(transcript, classifier):\n",
    "    \"\"\"Classify emotions in the transcript\"\"\"\n",
    "    if not transcript:\n",
    "        return None\n",
    "    try:\n",
    "        emotions = classifier(transcript)[0]\n",
    "        return max(emotions, key=lambda x: x['score'])['label']\n",
    "    except Exception as e:\n",
    "        print(f\"Error in emotion classification: {str(e)}\")\n",
    "        return None\n",
    "\n",
    "def analyze_videos_in_folder(folder_path):\n",
    "    \"\"\"Analyze all videos in the specified folder\"\"\"\n",
    "    classifier = pipeline(\"text-classification\",\n",
    "                        model=\"michellejieli/emotion_text_classifier\",\n",
    "                        return_all_scores=True)\n",
    "\n",
    "    video_files = [f for f in os.listdir(folder_path)\n",
    "                  if f.lower().endswith(('.mp4', '.mov', '.avi', '.mkv'))]\n",
    "\n",
    "    results = []\n",
    "    temp_audio_path = \"temp_audio.wav\"\n",
    "\n",
    "    for video_file in tqdm(video_files, desc=\"Processing videos\"):\n",
    "        video_path = os.path.join(folder_path, video_file)\n",
    "\n",
    "        if extract_audio_from_video(video_path, temp_audio_path):\n",
    "            transcript = convert_audio_to_text(temp_audio_path)\n",
    "\n",
    "            emotion = classify_emotions_in_text(transcript, classifier)\n",
    "\n",
    "            results.append({\n",
    "                'video': video_file,\n",
    "                'transcript': transcript,\n",
    "                'emotion': emotion\n",
    "            })\n",
    "\n",
    "            if os.path.exists(temp_audio_path):\n",
    "                os.remove(temp_audio_path)\n",
    "\n",
    "    return results\n",
    "\n",
    "def create_summary_table(results):\n",
    "    \"\"\"Create summary tables from the analysis results\"\"\"\n",
    "    emotion_counts = Counter(r['emotion'] for r in results if r['emotion'])\n",
    "\n",
    "    df_summary = pd.DataFrame(list(emotion_counts.items()),\n",
    "                            columns=['Emotion', 'Count'])\n",
    "    df_summary = df_summary.sort_values('Count', ascending=False)\n",
    "\n",
    "    df_details = pd.DataFrame(results)\n",
    "\n",
    "    return df_summary, df_details\n",
    "\n",
    "def main():\n",
    "    folder_path = \"/content/drive/MyDrive/July 13th files\"\n",
    "\n",
    "    print(\"Starting video analysis...\")\n",
    "    results = analyze_videos_in_folder(folder_path)\n",
    "\n",
    "    summary_table, details_table = create_summary_table(results)\n",
    "\n",
    "    print(\"\\nEmotion Distribution Summary:\")\n",
    "    print(summary_table.to_string(index=False))\n",
    "\n",
    "    summary_table.to_csv('emotion_summary.csv', index=False)\n",
    "    details_table.to_csv('analysis_details.csv', index=False)\n",
    "\n",
    "    print(\"\\nResults have been saved to 'emotion_summary.csv' and 'analysis_details.csv'\")\n",
    "\n",
    "if __name__ == \"__main__\":\n",
    "    main()"
   ]
  }
 ],
 "metadata": {
  "language_info": {
   "name": "python"
  }
 },
 "nbformat": 4,
 "nbformat_minor": 2
}
